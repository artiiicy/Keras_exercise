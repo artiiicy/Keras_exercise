{
 "cells": [
  {
   "cell_type": "code",
   "execution_count": 9,
   "metadata": {},
   "outputs": [
    {
     "name": "stdout",
     "output_type": "stream",
     "text": [
      "훈련용 피카츄 이미지 전체 개수: 20\n",
      "훈련용 스폰지밥 이미지 전체 개수: 20\n",
      "검증용 피카츄 이미지 전체 개수: 5\n",
      "검증용 스폰지밥 이미지 전체 개수: 5\n",
      "테스트용 피카츄 이미지 전체 개수: 5\n",
      "테스트용 스폰지밥 이미지 전체 개수: 5\n"
     ]
    }
   ],
   "source": [
    "import os, shutil\n",
    "\n",
    "# 훈련, 검증, 테스트 데이터 directory 저장\n",
    "train_dir = './datasets/train'\n",
    "validation_dir = './datasets/validation'\n",
    "test_dir = './datasets/test'\n",
    "\n",
    "# train directory\n",
    "train_pikachu_dir = './datasets/train/피카츄'\n",
    "train_spongebob_dir = './datasets/train/스폰지밥'\n",
    "\n",
    "# validation directory\n",
    "validation_pikachu_dir = './datasets/validation/피카츄'\n",
    "validation_spongebob_dir = './datasets/validation/스폰지밥'\n",
    "\n",
    "# test directory\n",
    "test_pikachu_dir = './datasets/test/피카츄'\n",
    "test_spongebob_dir = './datasets/test/스폰지밥'\n",
    "    \n",
    "print('훈련용 피카츄 이미지 전체 개수:', len(os.listdir(train_pikachu_dir)))\n",
    "print('훈련용 스폰지밥 이미지 전체 개수:', len(os.listdir(train_spongebob_dir)))\n",
    "print('검증용 피카츄 이미지 전체 개수:', len(os.listdir(validation_pikachu_dir)))\n",
    "print('검증용 스폰지밥 이미지 전체 개수:', len(os.listdir(validation_spongebob_dir)))\n",
    "print('테스트용 피카츄 이미지 전체 개수:', len(os.listdir(test_pikachu_dir)))\n",
    "print('테스트용 스폰지밥 이미지 전체 개수:', len(os.listdir(test_spongebob_dir)))"
   ]
  },
  {
   "cell_type": "code",
   "execution_count": 10,
   "metadata": {},
   "outputs": [],
   "source": [
    "import tensorflow.keras\n",
    "\n",
    "from tensorflow.keras.applications import VGG16\n",
    "\n",
    "conv_base = VGG16(weights='imagenet',\n",
    "                  include_top=False,\n",
    "                  input_shape=(150, 150, 3))"
   ]
  },
  {
   "cell_type": "code",
   "execution_count": 4,
   "metadata": {},
   "outputs": [
    {
     "name": "stderr",
     "output_type": "stream",
     "text": [
      "Using TensorFlow backend.\n"
     ]
    },
    {
     "name": "stdout",
     "output_type": "stream",
     "text": [
      "Found 40 images belonging to 2 classes.\n",
      "Found 10 images belonging to 2 classes.\n",
      "Found 10 images belonging to 2 classes.\n"
     ]
    }
   ],
   "source": [
    "import os\n",
    "import numpy as np\n",
    "from keras.preprocessing.image import ImageDataGenerator\n",
    "\n",
    "datagen = ImageDataGenerator(rescale=1./255)\n",
    "batch_size = 20\n",
    "\n",
    "def extract_features(directory, sample_count):\n",
    "    features = np.zeros(shape=(sample_count, 4, 4, 512))\n",
    "    labels = np.zeros(shape=(sample_count))\n",
    "    generator = datagen.flow_from_directory(\n",
    "        directory,\n",
    "        target_size=(150, 150),\n",
    "        batch_size=batch_size,\n",
    "        class_mode='binary')\n",
    "    i = 0\n",
    "    for inputs_batch, labels_batch in generator:\n",
    "        features_batch = conv_base.predict(inputs_batch)\n",
    "        features[i * batch_size : (i + 1) * batch_size] = features_batch\n",
    "        labels[i * batch_size : (i + 1) * batch_size] = labels_batch\n",
    "        i += 1\n",
    "        if i * batch_size >= sample_count:\n",
    "            # 제너레이터는 루프 안에서 무한하게 데이터를 만들어내므로 모든 이미지를 한 번씩 처리하고 나면 중지합니다\n",
    "            break\n",
    "    return features, labels\n",
    "\n",
    "train_features, train_labels = extract_features(train_dir, 40)\n",
    "validation_features, validation_labels = extract_features(validation_dir, 10)\n",
    "test_features, test_labels = extract_features(test_dir, 10)"
   ]
  },
  {
   "cell_type": "code",
   "execution_count": 5,
   "metadata": {},
   "outputs": [],
   "source": [
    "# fully connected layer에 넣기 위해 flatten\n",
    "\n",
    "train_features = np.reshape(train_features, (40, 4 * 4 * 512))\n",
    "validation_features = np.reshape(validation_features, (10, 4 * 4 * 512))\n",
    "test_features = np.reshape(test_features, (10, 4 * 4 * 512))"
   ]
  },
  {
   "cell_type": "code",
   "execution_count": 6,
   "metadata": {},
   "outputs": [
    {
     "name": "stdout",
     "output_type": "stream",
     "text": [
      "Train on 40 samples, validate on 10 samples\n",
      "Epoch 1/30\n",
      "40/40 [==============================] - 7s 169ms/sample - loss: 0.8760 - acc: 0.4750 - val_loss: 0.7216 - val_acc: 0.6000\n",
      "Epoch 2/30\n",
      "40/40 [==============================] - 0s 2ms/sample - loss: 0.5811 - acc: 0.6500 - val_loss: 0.5370 - val_acc: 0.8000\n",
      "Epoch 3/30\n",
      "40/40 [==============================] - 0s 2ms/sample - loss: 0.3967 - acc: 0.9000 - val_loss: 0.4215 - val_acc: 0.9000\n",
      "Epoch 4/30\n",
      "40/40 [==============================] - 0s 1ms/sample - loss: 0.2802 - acc: 0.9000 - val_loss: 0.3370 - val_acc: 0.9000\n",
      "Epoch 5/30\n",
      "40/40 [==============================] - 0s 1ms/sample - loss: 0.1726 - acc: 1.0000 - val_loss: 0.2753 - val_acc: 0.9000\n",
      "Epoch 6/30\n",
      "40/40 [==============================] - 0s 1ms/sample - loss: 0.2012 - acc: 0.9750 - val_loss: 0.2197 - val_acc: 0.9000\n",
      "Epoch 7/30\n",
      "40/40 [==============================] - 0s 1ms/sample - loss: 0.1035 - acc: 1.0000 - val_loss: 0.1812 - val_acc: 0.9000\n",
      "Epoch 8/30\n",
      "40/40 [==============================] - 0s 2ms/sample - loss: 0.1105 - acc: 1.0000 - val_loss: 0.1580 - val_acc: 0.9000\n",
      "Epoch 9/30\n",
      "40/40 [==============================] - 0s 1ms/sample - loss: 0.0665 - acc: 1.0000 - val_loss: 0.1383 - val_acc: 1.0000\n",
      "Epoch 10/30\n",
      "40/40 [==============================] - 0s 1ms/sample - loss: 0.0701 - acc: 1.0000 - val_loss: 0.1107 - val_acc: 1.0000\n",
      "Epoch 11/30\n",
      "40/40 [==============================] - 0s 1ms/sample - loss: 0.0442 - acc: 1.0000 - val_loss: 0.0925 - val_acc: 1.0000\n",
      "Epoch 12/30\n",
      "40/40 [==============================] - 0s 1ms/sample - loss: 0.0292 - acc: 1.0000 - val_loss: 0.0984 - val_acc: 1.0000\n",
      "Epoch 13/30\n",
      "40/40 [==============================] - 0s 2ms/sample - loss: 0.0228 - acc: 1.0000 - val_loss: 0.0807 - val_acc: 1.0000\n",
      "Epoch 14/30\n",
      "40/40 [==============================] - 0s 1ms/sample - loss: 0.0204 - acc: 1.0000 - val_loss: 0.0674 - val_acc: 1.0000\n",
      "Epoch 15/30\n",
      "40/40 [==============================] - 0s 2ms/sample - loss: 0.0236 - acc: 1.0000 - val_loss: 0.0508 - val_acc: 1.0000\n",
      "Epoch 16/30\n",
      "40/40 [==============================] - 0s 1ms/sample - loss: 0.0158 - acc: 1.0000 - val_loss: 0.0469 - val_acc: 1.0000\n",
      "Epoch 17/30\n",
      "40/40 [==============================] - 0s 1ms/sample - loss: 0.0104 - acc: 1.0000 - val_loss: 0.0430 - val_acc: 1.0000\n",
      "Epoch 18/30\n",
      "40/40 [==============================] - 0s 1ms/sample - loss: 0.0083 - acc: 1.0000 - val_loss: 0.0421 - val_acc: 1.0000\n",
      "Epoch 19/30\n",
      "40/40 [==============================] - 0s 1ms/sample - loss: 0.0089 - acc: 1.0000 - val_loss: 0.0328 - val_acc: 1.0000\n",
      "Epoch 20/30\n",
      "40/40 [==============================] - 0s 1ms/sample - loss: 0.0040 - acc: 1.0000 - val_loss: 0.0280 - val_acc: 1.0000\n",
      "Epoch 21/30\n",
      "40/40 [==============================] - 0s 1ms/sample - loss: 0.0028 - acc: 1.0000 - val_loss: 0.0209 - val_acc: 1.0000\n",
      "Epoch 22/30\n",
      "40/40 [==============================] - 0s 1ms/sample - loss: 0.0022 - acc: 1.0000 - val_loss: 0.0174 - val_acc: 1.0000\n",
      "Epoch 23/30\n",
      "40/40 [==============================] - 0s 1ms/sample - loss: 0.0030 - acc: 1.0000 - val_loss: 0.0248 - val_acc: 1.0000\n",
      "Epoch 24/30\n",
      "40/40 [==============================] - 0s 2ms/sample - loss: 0.0018 - acc: 1.0000 - val_loss: 0.0257 - val_acc: 1.0000\n",
      "Epoch 25/30\n",
      "40/40 [==============================] - 0s 2ms/sample - loss: 0.0014 - acc: 1.0000 - val_loss: 0.0130 - val_acc: 1.0000\n",
      "Epoch 26/30\n",
      "40/40 [==============================] - 0s 1ms/sample - loss: 8.0968e-04 - acc: 1.0000 - val_loss: 0.0180 - val_acc: 1.0000\n",
      "Epoch 27/30\n",
      "40/40 [==============================] - 0s 1ms/sample - loss: 7.8065e-04 - acc: 1.0000 - val_loss: 0.0176 - val_acc: 1.0000\n",
      "Epoch 28/30\n",
      "40/40 [==============================] - 0s 1ms/sample - loss: 4.1037e-04 - acc: 1.0000 - val_loss: 0.0113 - val_acc: 1.0000\n",
      "Epoch 29/30\n",
      "40/40 [==============================] - 0s 1ms/sample - loss: 5.0409e-04 - acc: 1.0000 - val_loss: 0.0092 - val_acc: 1.0000\n",
      "Epoch 30/30\n",
      "40/40 [==============================] - 0s 1ms/sample - loss: 5.6795e-04 - acc: 1.0000 - val_loss: 0.0054 - val_acc: 1.0000\n"
     ]
    }
   ],
   "source": [
    "# dense layer 학습\n",
    "\n",
    "from tensorflow.keras import models\n",
    "from tensorflow.keras import layers\n",
    "from tensorflow.keras import optimizers\n",
    "\n",
    "model = models.Sequential()\n",
    "model.add(layers.Dense(256, activation='relu', input_dim=4 * 4 * 512))\n",
    "model.add(layers.Dropout(0.5))\n",
    "model.add(layers.Dense(1, activation='sigmoid'))\n",
    "\n",
    "model.compile(optimizer=optimizers.RMSprop(lr=2e-5),\n",
    "              loss='binary_crossentropy',\n",
    "              metrics=['acc'])\n",
    "\n",
    "history = model.fit(train_features, train_labels,\n",
    "                    epochs=30,\n",
    "                    batch_size=2,\n",
    "                    validation_data=(validation_features, validation_labels))"
   ]
  },
  {
   "cell_type": "code",
   "execution_count": 8,
   "metadata": {},
   "outputs": [
    {
     "data": {
      "image/png": "[encoded data removed]",
      "text/plain": [
       "<Figure size 432x288 with 1 Axes>"
      ]
     },
     "metadata": {
      "needs_background": "light"
     },
     "output_type": "display_data"
    },
    {
     "data": {
      "image/png": "[encoded data removed]",
      "text/plain": [
       "<Figure size 432x288 with 1 Axes>"
      ]
     },
     "metadata": {
      "needs_background": "light"
     },
     "output_type": "display_data"
    }
   ],
   "source": [
    "import matplotlib.pyplot as plt\n",
    "\n",
    "acc = history.history['acc']\n",
    "val_acc = history.history['val_acc']\n",
    "loss = history.history['loss']\n",
    "val_loss = history.history['val_loss']\n",
    "\n",
    "epochs = range(len(acc))\n",
    "\n",
    "plt.plot(epochs, acc, 'bo', label='Training acc')\n",
    "plt.plot(epochs, val_acc, 'b', label='Validation acc')\n",
    "plt.title('Training and validation accuracy')\n",
    "plt.legend()\n",
    "\n",
    "plt.figure()\n",
    "\n",
    "plt.plot(epochs, loss, 'bo', label='Training loss')\n",
    "plt.plot(epochs, val_loss, 'b', label='Validation loss')\n",
    "plt.title('Training and validation loss')\n",
    "plt.legend()\n",
    "\n",
    "plt.show()"
   ]
  },
  {
   "cell_type": "code",
   "execution_count": 11,
   "metadata": {},
   "outputs": [
    {
     "name": "stdout",
     "output_type": "stream",
     "text": [
      "Found 40 images belonging to 2 classes.\n",
      "Found 10 images belonging to 2 classes.\n",
      "Epoch 1/30\n",
      "2/2 - 38s - loss: 0.6551 - acc: 0.6750 - val_loss: 0.5119 - val_acc: 0.8000\n",
      "Epoch 2/30\n",
      "2/2 - 38s - loss: 0.5255 - acc: 0.8750 - val_loss: 0.4216 - val_acc: 1.0000\n",
      "Epoch 3/30\n",
      "2/2 - 41s - loss: 0.4161 - acc: 0.9750 - val_loss: 0.3727 - val_acc: 1.0000\n",
      "Epoch 4/30\n",
      "2/2 - 41s - loss: 0.3846 - acc: 0.9750 - val_loss: 0.3257 - val_acc: 1.0000\n",
      "Epoch 5/30\n",
      "2/2 - 40s - loss: 0.3525 - acc: 1.0000 - val_loss: 0.2914 - val_acc: 1.0000\n",
      "Epoch 6/30\n",
      "2/2 - 40s - loss: 0.3403 - acc: 1.0000 - val_loss: 0.2593 - val_acc: 1.0000\n",
      "Epoch 7/30\n",
      "2/2 - 40s - loss: 0.2789 - acc: 1.0000 - val_loss: 0.2350 - val_acc: 1.0000\n",
      "Epoch 8/30\n",
      "2/2 - 41s - loss: 0.2630 - acc: 1.0000 - val_loss: 0.2188 - val_acc: 1.0000\n",
      "Epoch 9/30\n",
      "2/2 - 41s - loss: 0.2290 - acc: 1.0000 - val_loss: 0.2005 - val_acc: 1.0000\n",
      "Epoch 10/30\n",
      "2/2 - 40s - loss: 0.2147 - acc: 1.0000 - val_loss: 0.1830 - val_acc: 1.0000\n",
      "Epoch 11/30\n",
      "2/2 - 40s - loss: 0.2001 - acc: 1.0000 - val_loss: 0.1700 - val_acc: 1.0000\n",
      "Epoch 12/30\n",
      "2/2 - 41s - loss: 0.1850 - acc: 1.0000 - val_loss: 0.1563 - val_acc: 1.0000\n",
      "Epoch 13/30\n",
      "2/2 - 40s - loss: 0.1840 - acc: 1.0000 - val_loss: 0.1446 - val_acc: 1.0000\n",
      "Epoch 14/30\n",
      "2/2 - 41s - loss: 0.1534 - acc: 1.0000 - val_loss: 0.1340 - val_acc: 1.0000\n",
      "Epoch 15/30\n",
      "2/2 - 41s - loss: 0.1369 - acc: 1.0000 - val_loss: 0.1259 - val_acc: 1.0000\n",
      "Epoch 16/30\n",
      "2/2 - 40s - loss: 0.1492 - acc: 1.0000 - val_loss: 0.1163 - val_acc: 1.0000\n",
      "Epoch 17/30\n",
      "2/2 - 40s - loss: 0.1329 - acc: 1.0000 - val_loss: 0.1078 - val_acc: 1.0000\n",
      "Epoch 18/30\n",
      "2/2 - 40s - loss: 0.1216 - acc: 1.0000 - val_loss: 0.1012 - val_acc: 1.0000\n",
      "Epoch 19/30\n",
      "2/2 - 40s - loss: 0.1060 - acc: 1.0000 - val_loss: 0.0942 - val_acc: 1.0000\n",
      "Epoch 20/30\n",
      "2/2 - 41s - loss: 0.0865 - acc: 1.0000 - val_loss: 0.0900 - val_acc: 1.0000\n",
      "Epoch 21/30\n",
      "2/2 - 40s - loss: 0.0976 - acc: 1.0000 - val_loss: 0.0848 - val_acc: 1.0000\n",
      "Epoch 22/30\n",
      "2/2 - 41s - loss: 0.0907 - acc: 1.0000 - val_loss: 0.0792 - val_acc: 1.0000\n",
      "Epoch 23/30\n",
      "2/2 - 40s - loss: 0.0793 - acc: 1.0000 - val_loss: 0.0785 - val_acc: 1.0000\n",
      "Epoch 24/30\n",
      "2/2 - 39s - loss: 0.0674 - acc: 1.0000 - val_loss: 0.0745 - val_acc: 1.0000\n",
      "Epoch 25/30\n",
      "2/2 - 41s - loss: 0.0723 - acc: 1.0000 - val_loss: 0.0683 - val_acc: 1.0000\n",
      "Epoch 26/30\n",
      "2/2 - 40s - loss: 0.0643 - acc: 1.0000 - val_loss: 0.0673 - val_acc: 1.0000\n",
      "Epoch 27/30\n",
      "2/2 - 41s - loss: 0.0617 - acc: 1.0000 - val_loss: 0.0605 - val_acc: 1.0000\n",
      "Epoch 28/30\n",
      "2/2 - 40s - loss: 0.0597 - acc: 1.0000 - val_loss: 0.0554 - val_acc: 1.0000\n",
      "Epoch 29/30\n",
      "2/2 - 41s - loss: 0.0573 - acc: 1.0000 - val_loss: 0.0523 - val_acc: 1.0000\n",
      "Epoch 30/30\n",
      "2/2 - 41s - loss: 0.0536 - acc: 1.0000 - val_loss: 0.0493 - val_acc: 1.0000\n"
     ]
    }
   ],
   "source": [
    "# VGG16의 conv layer 추가\n",
    "\n",
    "from tensorflow.keras import models\n",
    "from tensorflow.keras import layers\n",
    "from tensorflow.keras.preprocessing.image import ImageDataGenerator\n",
    "from tensorflow.keras import optimizers작\n",
    "\n",
    "model = models.Sequential()\n",
    "model.add(conv_base)\n",
    "model.add(layers.Flatten())\n",
    "model.add(layers.Dense(256, activation='relu'))\n",
    "model.add(layers.Dense(1, activation='sigmoid'))\n",
    "\n",
    "\n",
    "conv_base.trainable = False # conv layer 동결하여 기존 학습된 weight사용\n",
    "\n",
    "# Data augmentation\n",
    "train_datagen = ImageDataGenerator(\n",
    "      rescale=1./255,\n",
    "      rotation_range=20,\n",
    "      width_shift_range=0.1,\n",
    "      height_shift_range=0.1,\n",
    "      shear_range=0.1,\n",
    "      zoom_range=0.1,\n",
    "      horizontal_flip=True,\n",
    "      fill_mode='nearest')\n",
    "\n",
    "# 검증 데이터는 증식하지 않는다.\n",
    "test_datagen = ImageDataGenerator(rescale=1./255)\n",
    "\n",
    "train_generator = train_datagen.flow_from_directory(\n",
    "        # 타깃 디렉터리\n",
    "        train_dir,\n",
    "        # 모든 이미지의 크기를 150 × 150로 변경\n",
    "        target_size=(150, 150),\n",
    "        batch_size=20,\n",
    "        # binary_crossentropy 손실을 사용하므로 이진 레이블이 필요하다\n",
    "        class_mode='binary')\n",
    "\n",
    "validation_generator = test_datagen.flow_from_directory(\n",
    "        validation_dir,\n",
    "        target_size=(150, 150),\n",
    "        batch_size=20,\n",
    "        class_mode='binary')\n",
    "\n",
    "model.compile(loss='binary_crossentropy',\n",
    "              optimizer=optimizers.RMSprop(lr=2e-5),\n",
    "              metrics=['acc'])\n",
    "\n",
    "history = model.fit_generator(\n",
    "      train_generator,\n",
    "      steps_per_epoch=2,\n",
    "      epochs=30,\n",
    "      validation_data=validation_generator,\n",
    "      validation_steps=50,\n",
    "      verbose=2)"
   ]
  },
  {
   "cell_type": "code",
   "execution_count": 12,
   "metadata": {},
   "outputs": [
    {
     "data": {
      "image/png": "[encoded data removed]",
      "text/plain": [
       "<Figure size 432x288 with 1 Axes>"
      ]
     },
     "metadata": {
      "needs_background": "light"
     },
     "output_type": "display_data"
    },
    {
     "data": {
      "image/png": "[encoded data removed]",
      "text/plain": [
       "<Figure size 432x288 with 1 Axes>"
      ]
     },
     "metadata": {
      "needs_background": "light"
     },
     "output_type": "display_data"
    }
   ],
   "source": [
    "import matplotlib.pyplot as plt\n",
    "\n",
    "acc = history.history['acc']\n",
    "val_acc = history.history['val_acc']\n",
    "loss = history.history['loss']\n",
    "val_loss = history.history['val_loss']\n",
    "\n",
    "epochs = range(len(acc))\n",
    "\n",
    "plt.plot(epochs, acc, 'bo', label='Training acc')\n",
    "plt.plot(epochs, val_acc, 'b', label='Validation acc')\n",
    "plt.title('Training and validation accuracy')\n",
    "plt.legend()\n",
    "\n",
    "plt.figure()\n",
    "\n",
    "plt.plot(epochs, loss, 'bo', label='Training loss')\n",
    "plt.plot(epochs, val_loss, 'b', label='Validation loss')\n",
    "plt.title('Training and validation loss')\n",
    "plt.legend()\n",
    "\n",
    "plt.show()"
   ]
  },
  {
   "cell_type": "code",
   "execution_count": null,
   "metadata": {},
   "outputs": [],
   "source": []
  }
 ],
 "metadata": {
  "kernelspec": {
   "display_name": "Python 3",
   "language": "python",
   "name": "python3"
  },
  "language_info": {
   "codemirror_mode": {
    "name": "ipython",
    "version": 3
   },
   "file_extension": ".py",
   "mimetype": "text/x-python",
   "name": "python",
   "nbconvert_exporter": "python",
   "pygments_lexer": "ipython3",
   "version": "3.6.9"
  }
 },
 "nbformat": 4,
 "nbformat_minor": 2
}
